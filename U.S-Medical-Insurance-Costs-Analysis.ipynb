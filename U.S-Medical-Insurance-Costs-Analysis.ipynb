{
 "cells": [
  {
   "cell_type": "markdown",
   "metadata": {},
   "source": [
    "# U.S. Medical Insurance Costs"
   ]
  },
  {
   "cell_type": "code",
   "execution_count": 339,
   "metadata": {},
   "outputs": [],
   "source": [
    "#import csv libarary\n",
    "import csv\n"
   ]
  },
  {
   "cell_type": "markdown",
   "metadata": {},
   "source": [
    "### Load data into lists"
   ]
  },
  {
   "cell_type": "code",
   "execution_count": 340,
   "metadata": {},
   "outputs": [],
   "source": [
    "#creating lists to store data\n",
    "age = []\n",
    "sex = []\n",
    "bmi = []\n",
    "children = []\n",
    "smoker = []\n",
    "regions = []\n",
    "charges = []\n"
   ]
  },
  {
   "cell_type": "markdown",
   "metadata": {},
   "source": [
    "### Open file and record data to lists"
   ]
  },
  {
   "cell_type": "code",
   "execution_count": 341,
   "metadata": {},
   "outputs": [],
   "source": [
    "#open and parse csv file\n",
    "with open('insurance.csv', newline='') as insurance_csv:\n",
    "    insurance = csv.DictReader(insurance_csv)\n",
    "    #print(insurance)\n",
    "    for line in insurance:\n",
    "        age.append(line['age'])\n",
    "        sex.append(line['sex'])\n",
    "        bmi.append(line['bmi'])\n",
    "        children.append(line['children'])\n",
    "        smoker.append(line['smoker'])\n",
    "        regions.append(line['region'])\n",
    "        charges.append(line['charges'])"
   ]
  },
  {
   "cell_type": "markdown",
   "metadata": {},
   "source": [
    "### Average age of a patient"
   ]
  },
  {
   "cell_type": "code",
   "execution_count": 342,
   "metadata": {},
   "outputs": [],
   "source": [
    "#what is the average age of the patients?\n",
    "def avg_age(age):\n",
    "    total = 0\n",
    "    for num in age:\n",
    "        total += int(num)\n",
    "    average_age = round(total / len(age), 2)\n",
    "    return \"The average age of the patients is \"+ str(average_age)"
   ]
  },
  {
   "cell_type": "markdown",
   "metadata": {},
   "source": [
    "### Region Count and Majority Region"
   ]
  },
  {
   "cell_type": "code",
   "execution_count": 343,
   "metadata": {},
   "outputs": [],
   "source": [
    "#where is the majority of people from?\n",
    "def majority(regions):\n",
    "    regions_s = set(regions)\n",
    "    for region in regions_s:\n",
    "        print(\"{} patients from {} region.\".format(str(regions.count(region)), region))\n",
    "    majority_region = ''\n",
    "    majority_count = 0\n",
    "\n",
    "    for region_count in regions:\n",
    "        if regions.count(region_count)> majority_count:\n",
    "            majority_region = region_count\n",
    "            majority_count = regions.count(region_count)\n",
    "    return \"{} of people are from the {} region, which is the majority\".format(majority_count, majority_region)\n",
    "    "
   ]
  },
  {
   "cell_type": "markdown",
   "metadata": {},
   "source": [
    "### Cost difference of Smokers and Non-smokers"
   ]
  },
  {
   "cell_type": "code",
   "execution_count": 344,
   "metadata": {},
   "outputs": [],
   "source": [
    "#what is the difference of costs between smokers and non-smokers?\n",
    "costs = [(smoker, charges) for smoker, charges in zip(smoker, charges)]\n",
    "def difference_cost(smoker,charges):\n",
    "    smoker_cost = 0.0\n",
    "    non_smoker_cost = 0.0\n",
    "    for cost in costs:\n",
    "        if cost[0] == 'yes':\n",
    "            smoker_cost += float(cost[1])\n",
    "        elif cost[0] == 'no':\n",
    "            non_smoker_cost += float(cost[1])\n",
    "    difference = round(smoker_cost - non_smoker_cost, 2)\n",
    "    return \"The difference of cost between smokers and non_smokers is \" + str(difference)  "
   ]
  },
  {
   "cell_type": "markdown",
   "metadata": {},
   "source": [
    "### Average age of patient with at least one child"
   ]
  },
  {
   "cell_type": "code",
   "execution_count": 345,
   "metadata": {},
   "outputs": [],
   "source": [
    "#what is the average age of someone who has at least one child?\n",
    "age_child = [(age, children) for age, children in zip(age, children)]\n",
    "def avg_age_onechild():\n",
    "    total_age = 0\n",
    "    total_parents = 0\n",
    "    for num in age_child:\n",
    "        numchild = int(num[1])\n",
    "        if numchild >= 1:\n",
    "            total_age += int(num[0])\n",
    "            total_parents += 1\n",
    "    avg_age = total_age / total_parents\n",
    "    rounded = round(avg_age, 2)\n",
    "    return \"Total Patients: {} \\t Total Parents: {} \\t Average Age: {}\".format(len(age), total_parents, rounded)\n",
    "            "
   ]
  },
  {
   "cell_type": "markdown",
   "metadata": {},
   "source": [
    "### Count of males and females"
   ]
  },
  {
   "cell_type": "code",
   "execution_count": 346,
   "metadata": {},
   "outputs": [],
   "source": [
    "def male_female_count():\n",
    "    total_males = 0\n",
    "    total_females = 0\n",
    "\n",
    "    for i in range(len(sex)):\n",
    "        if sex[i] == \"female\":\n",
    "            total_females += 1\n",
    "        else:\n",
    "            total_males += 1\n",
    "\n",
    "    return \"Total females: {} \\t Total males: {}\".format(total_females, total_males)"
   ]
  },
  {
   "cell_type": "markdown",
   "metadata": {},
   "source": [
    "### Analysis Results"
   ]
  },
  {
   "cell_type": "code",
   "execution_count": 347,
   "metadata": {},
   "outputs": [
    {
     "name": "stdout",
     "output_type": "stream",
     "text": [
      "The average age of the patients is 39.21\n",
      "\n",
      "364 patients from southeast region.\n",
      "325 patients from northwest region.\n",
      "325 patients from southwest region.\n",
      "324 patients from northeast region.\n",
      "364 of people are from the southeast region, which is the majority\n",
      "\n",
      "The difference of cost between smokers and non_smokers is -192297.95\n",
      "\n",
      "Total Patients: 1338 \t Total Parents: 764 \t Average Age: 39.78\n",
      "\n",
      "Total females: 662 \t Total males: 676\n"
     ]
    }
   ],
   "source": [
    "average_age = avg_age(age)\n",
    "print(avg_age(age))\n",
    "print(\"\")\n",
    "\n",
    "\n",
    "\n",
    "majority = majority(regions)\n",
    "print(majority)\n",
    "print(\"\")\n",
    "\n",
    "difference_cost = difference_cost(smoker,charges)\n",
    "print(difference_cost)\n",
    "print(\"\")\n",
    "\n",
    "average_age_onechild = avg_age_onechild()\n",
    "print(average_age_onechild)\n",
    "print(\"\")\n",
    "\n",
    "male_female_count = male_female_count()\n",
    "print(male_female_count)"
   ]
  },
  {
   "cell_type": "code",
   "execution_count": null,
   "metadata": {},
   "outputs": [],
   "source": []
  }
 ],
 "metadata": {
  "kernelspec": {
   "display_name": "Python 3",
   "language": "python",
   "name": "python3"
  },
  "language_info": {
   "codemirror_mode": {
    "name": "ipython",
    "version": 3
   },
   "file_extension": ".py",
   "mimetype": "text/x-python",
   "name": "python",
   "nbconvert_exporter": "python",
   "pygments_lexer": "ipython3",
   "version": "3.8.5"
  }
 },
 "nbformat": 4,
 "nbformat_minor": 4
}
